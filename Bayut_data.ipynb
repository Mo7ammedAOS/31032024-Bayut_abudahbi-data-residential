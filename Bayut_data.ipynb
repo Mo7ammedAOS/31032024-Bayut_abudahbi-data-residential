{
 "cells": [
  {
   "cell_type": "code",
   "execution_count": 7,
   "id": "3f6b11ee-09be-4210-8aa3-0f526daebbf6",
   "metadata": {},
   "outputs": [],
   "source": [
    "from selenium import webdriver\n",
    "from selenium.webdriver.edge.service import Service\n",
    "from selenium.webdriver.edge.options import Options\n",
    "from selenium.webdriver.common.keys import Keys\n",
    "from selenium.webdriver.common.by import By\n",
    "from selenium.webdriver.support.ui import WebDriverWait as wdw\n",
    "from selenium.webdriver.support import expected_conditions as ec\n",
    "import os\n",
    "import csv"
   ]
  },
  {
   "cell_type": "code",
   "execution_count": 8,
   "id": "3d902d69-82b7-4aa6-8383-05efbcbdb049",
   "metadata": {},
   "outputs": [],
   "source": [
    "user_agent = 'Mozilla/5.0 (Windows NT 10.0; Win64; x64) AppleWebKit/537.36 (KHTML, like Gecko) Chrome/123.0.0.0 Safari/537.36 Edg/123.0.0.0'"
   ]
  },
  {
   "cell_type": "code",
   "execution_count": 9,
   "id": "ce7ceda5-f314-42f0-9b9e-cc895471394b",
   "metadata": {},
   "outputs": [],
   "source": [
    "path = os.path.join(os.getcwd(),'msedgedriver.exe')\n",
    "edge_service = Service(path)\n",
    "edge_options = Options()\n",
    "edge_options.add_argument(f'user-agent={user_agent}')\n",
    "edge_options.add_experimental_option(\"detach\",True)"
   ]
  },
  {
   "cell_type": "code",
   "execution_count": null,
   "id": "3a172162-ac90-483e-be93-a67da713410e",
   "metadata": {
    "scrolled": true
   },
   "outputs": [],
   "source": [
    "browser = webdriver.Edge(service=edge_service,options=edge_options)\n",
    "bayut_file = \"bayut_data_abudhabi.csv\"\n",
    "with open(bayut_file,'w',encoding='utf-8', newline='') as byt_file:\n",
    "    csv_writer = csv.writer(byt_file)\n",
    "    csv_writer.writerow(['price','location','area'])\n",
    "    for i in range(1,16):\n",
    "        url =f'https://www.bayut.com/for-sale/apartments/abu-dhabi/page-{i}/'\n",
    "        browser.get(url)\n",
    "        wdw(browser,10)\n",
    "        container_links =browser.find_elements(By.CLASS_NAME,'_287661cb')\n",
    "        edge_options.add_argument('headless')\n",
    "        browser = webdriver.Edge(service=edge_service,options=edge_options)\n",
    "        for link in container_links:\n",
    "            plink = link.get_attribute('href')\n",
    "            browser.get(plink)\n",
    "            price = int(browser.find_element(By.CLASS_NAME,'_105b8a67').text.replace(',',''))\n",
    "            location = browser.find_element(By.CLASS_NAME,'_1f0f1758').text \n",
    "            area = int(browser.find_element(By.XPATH,'//*[@id=\"body-wrapper\"]/main/div[2]/div[4]/div[1]/div[3]/div[3]/span[2]/span/span').text.split(' ')[0].replace(',',''))\n",
    "            csv_writer.writerow([price,location,area])\n",
    "            # print(price,'|||',location,'|||',area)\n",
    "    \n",
    "            # print(container_link.get_attribute('href'))"
   ]
  },
  {
   "cell_type": "code",
   "execution_count": null,
   "id": "320b88d0-503c-4f8f-a4d1-565c8f3b4a2b",
   "metadata": {},
   "outputs": [],
   "source": []
  }
 ],
 "metadata": {
  "kernelspec": {
   "display_name": "Python 3 (ipykernel)",
   "language": "python",
   "name": "python3"
  },
  "language_info": {
   "codemirror_mode": {
    "name": "ipython",
    "version": 3
   },
   "file_extension": ".py",
   "mimetype": "text/x-python",
   "name": "python",
   "nbconvert_exporter": "python",
   "pygments_lexer": "ipython3",
   "version": "3.12.1"
  }
 },
 "nbformat": 4,
 "nbformat_minor": 5
}
